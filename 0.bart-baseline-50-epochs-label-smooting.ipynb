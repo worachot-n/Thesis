{
 "cells": [
  {
   "cell_type": "code",
   "execution_count": 1,
   "id": "7c2c5b79-b8df-4c93-9e9b-ccbd414e7aa6",
   "metadata": {
    "tags": []
   },
   "outputs": [],
   "source": [
    "import os\n",
    "os.environ['http_proxy'] = \"http://192.41.170.23:3128\" \n",
    "os.environ['https_proxy'] = \"http://192.41.170.23:3128\" \n",
    "os.environ[\"CUDA_VISIBLE_DEVICES\"]=\"0\"\n",
    "os.environ[\"TOKENIZERS_PARALLELISM\"] = \"false\"\n",
    "os.environ['TRANSFORMERS_NO_ADVISORY_WARNINGS'] = 'true'"
   ]
  },
  {
   "cell_type": "code",
   "execution_count": 2,
   "id": "daf2a7b2-f9fe-46e1-aa43-cb6b1637589e",
   "metadata": {
    "tags": []
   },
   "outputs": [],
   "source": [
    "# !pip install -q transformers\n",
    "# !pip install -q sentence-transformers\n",
    "# !pip install -q datasets\n",
    "# !pip install -q evaluate"
   ]
  },
  {
   "cell_type": "code",
   "execution_count": 3,
   "id": "7701b4ec-e2a3-40af-aacc-e3b39751e69b",
   "metadata": {
    "tags": []
   },
   "outputs": [],
   "source": [
    "import random\n",
    "import sys\n",
    "import json\n",
    "import math\n",
    "from statistics import mean, stdev\n",
    "from tqdm.auto import tqdm\n",
    "\n",
    "import numpy as np\n",
    "import pandas as pd\n",
    "import matplotlib.pyplot as plt\n",
    "\n",
    "import torch\n",
    "from torch.utils.data import DataLoader\n",
    "from torch.nn import CrossEntropyLoss\n",
    "from torch.utils.tensorboard import SummaryWriter\n",
    "from sentence_transformers import SentenceTransformer, util\n",
    "from transformers import AdamW, get_scheduler\n",
    "from transformers import AutoModelForSeq2SeqLM, DataCollatorForSeq2Seq, Seq2SeqTrainingArguments, Seq2SeqTrainer\n",
    "from transformers import AutoTokenizer, BartTokenizerFast, BartTokenizer, BartForConditionalGeneration\n",
    "\n",
    "from datasets import load_metric,Dataset,DatasetDict\n",
    "# from evaluate import load\n",
    "import nltk\n",
    "from nltk.metrics.segmentation import windowdiff, pk"
   ]
  },
  {
   "cell_type": "code",
   "execution_count": 4,
   "id": "de0c0873-b63d-455c-b0fb-63763ffaf64e",
   "metadata": {},
   "outputs": [],
   "source": [
    "num_epochs = 50\n",
    "\n",
    "max_grad_norm = 1.0\n",
    "accumulate_grad_batch = 2\n",
    "num_sanity_val_steps = 4\n",
    "eval_max_length = 100\n",
    "label_smoothing = 0.1\n",
    "\n",
    "max_input_length = 512\n",
    "max_target_length = 100\n",
    "\n",
    "train_num_workers = 4\n",
    "eval_num_workers = 2\n",
    "\n",
    "best_loss = float('inf')\n",
    "patience = 0\n",
    "# max_patience = 15\n",
    "\n",
    "best_rouge_1_score = 0.0\n",
    "best_model_weights = None\n",
    "best_loss = 0.0"
   ]
  },
  {
   "cell_type": "code",
   "execution_count": 5,
   "id": "fab1fba7-bdeb-4c34-a5c1-fb2a789993e5",
   "metadata": {
    "tags": []
   },
   "outputs": [],
   "source": [
    "def load_jsonl(input_path) -> list:\n",
    "    \"\"\"\n",
    "    Read list of objects from a JSON lines file.\n",
    "    \"\"\"\n",
    "    data = []\n",
    "    with open(input_path, 'r', encoding='utf-8') as f:\n",
    "        for line in f:\n",
    "            data.append(json.loads(line.rstrip('\\n|\\r')))\n",
    "    print('Loaded {} records from {}'.format(len(data), input_path))\n",
    "    return data"
   ]
  },
  {
   "cell_type": "code",
   "execution_count": 6,
   "id": "3ea1cded-3294-437a-a35a-c44fb82cc2aa",
   "metadata": {
    "tags": []
   },
   "outputs": [],
   "source": [
    "def transform_train_dialogsumm_file(file):\n",
    "    data = open(file,\"r\").readlines()\n",
    "    result = {\"fname\":[],\"summary\":[],\"dialogue\":[]}\n",
    "    for i in data[:]:\n",
    "        d = json.loads(i)\n",
    "        for j in d.keys():\n",
    "            if j in result.keys():\n",
    "                result[j].append(d[j])\n",
    "    return Dataset.from_dict(result)\n",
    "\n",
    "def transform_valid_dialogsumm_file(file):\n",
    "    data = open(file,\"r\").readlines()\n",
    "    result = {\"fname\":[],\"summary\":[],\"dialogue\":[]}\n",
    "    for i in data[:]:\n",
    "        d = json.loads(i)\n",
    "        for j in d.keys():\n",
    "            if j in result.keys():\n",
    "                result[j].append(d[j])\n",
    "    return Dataset.from_dict(result)"
   ]
  },
  {
   "cell_type": "code",
   "execution_count": 7,
   "id": "59c14070-c610-442f-b7ff-8517efb5e9c7",
   "metadata": {},
   "outputs": [],
   "source": [
    "train = transform_train_dialogsumm_file('./dataset/dialogsum/DialogSum_Data/dialogsum.train.jsonl')"
   ]
  },
  {
   "cell_type": "code",
   "execution_count": 8,
   "id": "d7afcc2e-bbd9-4149-b4f5-4f0688493aa2",
   "metadata": {
    "tags": []
   },
   "outputs": [],
   "source": [
    "validation = transform_valid_dialogsumm_file('./dataset/dialogsum/DialogSum_Data/dialogsum.dev.jsonl')"
   ]
  },
  {
   "cell_type": "code",
   "execution_count": 9,
   "id": "0495ee17-d8a6-447f-807c-60b18166c9c3",
   "metadata": {
    "tags": []
   },
   "outputs": [],
   "source": [
    "raw_datasets = DatasetDict({\"train\":train,\"validation\":validation})"
   ]
  },
  {
   "cell_type": "code",
   "execution_count": 10,
   "id": "3a51de44-2220-4a8f-a8d4-b0542f03f0d1",
   "metadata": {
    "tags": []
   },
   "outputs": [
    {
     "data": {
      "text/plain": [
       "DatasetDict({\n",
       "    train: Dataset({\n",
       "        features: ['fname', 'summary', 'dialogue'],\n",
       "        num_rows: 12460\n",
       "    })\n",
       "    validation: Dataset({\n",
       "        features: ['fname', 'summary', 'dialogue'],\n",
       "        num_rows: 500\n",
       "    })\n",
       "})"
      ]
     },
     "execution_count": 10,
     "metadata": {},
     "output_type": "execute_result"
    }
   ],
   "source": [
    "raw_datasets"
   ]
  },
  {
   "cell_type": "code",
   "execution_count": 11,
   "id": "cabba2b4-bd3f-4b04-a8b8-7bf95268508b",
   "metadata": {
    "tags": []
   },
   "outputs": [
    {
     "name": "stderr",
     "output_type": "stream",
     "text": [
      "/tmp/ipykernel_24993/1250471123.py:2: FutureWarning: load_metric is deprecated and will be removed in the next major version of datasets. Use 'evaluate.load' instead, from the new library 🤗 Evaluate: https://huggingface.co/docs/evaluate\n",
      "  metric = load_metric('rouge.py')\n"
     ]
    }
   ],
   "source": [
    "model_checkpoint = \"facebook/bart-large\"\n",
    "metric = load_metric('rouge.py')"
   ]
  },
  {
   "cell_type": "code",
   "execution_count": 12,
   "id": "bb0bd591-9eec-4b31-bc0e-b6c996d94bc9",
   "metadata": {
    "tags": []
   },
   "outputs": [],
   "source": [
    "model = BartForConditionalGeneration.from_pretrained(model_checkpoint)\n",
    "tokenizer = BartTokenizer.from_pretrained(model_checkpoint)"
   ]
  },
  {
   "cell_type": "code",
   "execution_count": 13,
   "id": "612b9bf9-8fba-44e0-8692-cf4332384693",
   "metadata": {
    "tags": []
   },
   "outputs": [],
   "source": [
    "scaler = torch.cuda.amp.GradScaler()"
   ]
  },
  {
   "cell_type": "code",
   "execution_count": 14,
   "id": "c623ca56-e4a0-451d-afc3-44eb5c82e310",
   "metadata": {
    "tags": []
   },
   "outputs": [],
   "source": [
    "import torch\n",
    "device = torch.device(\"cuda:0\")\n",
    "model = model.to(device)"
   ]
  },
  {
   "cell_type": "code",
   "execution_count": 15,
   "id": "0ae01886-ebe6-49c9-9213-770e24edf458",
   "metadata": {
    "tags": []
   },
   "outputs": [],
   "source": [
    "model.config.dropout = 0.1\n",
    "model.config.eval_beams = 5\n",
    "model.config.eval_lenpen = 1.0 "
   ]
  },
  {
   "cell_type": "code",
   "execution_count": 16,
   "id": "bf8fbd56-3f62-4798-b3ea-bbaa83a727dc",
   "metadata": {
    "tags": []
   },
   "outputs": [],
   "source": [
    "def preprocess_function(examples):\n",
    "    inputs = [doc for doc in examples[\"dialogue\"]]\n",
    "    model_inputs = tokenizer(inputs, max_length=max_input_length, truncation=True)\n",
    "\n",
    "    # Setup the tokenizer for targets\n",
    "    with tokenizer.as_target_tokenizer():\n",
    "        labels = tokenizer(examples[\"summary\"], max_length=max_target_length, truncation=True)\n",
    "\n",
    "    model_inputs[\"labels\"] = labels[\"input_ids\"]\n",
    "    return model_inputs"
   ]
  },
  {
   "cell_type": "code",
   "execution_count": 17,
   "id": "2fde909f-979f-4d9e-8676-c86bce163f40",
   "metadata": {
    "tags": []
   },
   "outputs": [],
   "source": [
    "data = raw_datasets"
   ]
  },
  {
   "cell_type": "code",
   "execution_count": 18,
   "id": "2f780ab7-f57c-4711-947b-c3a4ff6e8ada",
   "metadata": {
    "tags": []
   },
   "outputs": [
    {
     "data": {
      "application/vnd.jupyter.widget-view+json": {
       "model_id": "",
       "version_major": 2,
       "version_minor": 0
      },
      "text/plain": [
       "Map:   0%|          | 0/12460 [00:00<?, ? examples/s]"
      ]
     },
     "metadata": {},
     "output_type": "display_data"
    },
    {
     "name": "stderr",
     "output_type": "stream",
     "text": [
      "/home/worachotn/.local/lib/python3.8/site-packages/transformers/tokenization_utils_base.py:3581: UserWarning: `as_target_tokenizer` is deprecated and will be removed in v5 of Transformers. You can tokenize your labels by using the argument `text_target` of the regular `__call__` method (either in the same call as your input texts if you use the same keyword arguments, or in a separate call.\n",
      "  warnings.warn(\n"
     ]
    },
    {
     "data": {
      "application/vnd.jupyter.widget-view+json": {
       "model_id": "",
       "version_major": 2,
       "version_minor": 0
      },
      "text/plain": [
       "Map:   0%|          | 0/500 [00:00<?, ? examples/s]"
      ]
     },
     "metadata": {},
     "output_type": "display_data"
    }
   ],
   "source": [
    "tokenized_datasets = data.map(preprocess_function, batched=True, remove_columns=['fname', 'summary', 'dialogue'])"
   ]
  },
  {
   "cell_type": "code",
   "execution_count": 19,
   "id": "59b05e6d-8448-4173-8082-61ce6f7426f1",
   "metadata": {},
   "outputs": [],
   "source": [
    "data_collator = DataCollatorForSeq2Seq(tokenizer, model=model)"
   ]
  },
  {
   "cell_type": "code",
   "execution_count": 20,
   "id": "50760efd-59fb-4c2b-ac44-38c7be43f6d0",
   "metadata": {},
   "outputs": [
    {
     "name": "stdout",
     "output_type": "stream",
     "text": [
      "{'input_ids': torch.Size([32, 512]), 'attention_mask': torch.Size([32, 512]), 'labels': torch.Size([32, 83]), 'decoder_input_ids': torch.Size([32, 83])}\n"
     ]
    }
   ],
   "source": [
    "train_dataloader = DataLoader(\n",
    "    tokenized_datasets[\"train\"], shuffle=True, collate_fn=data_collator, batch_size=32, num_workers=train_num_workers\n",
    ")\n",
    "eval_dataloader = DataLoader(\n",
    "    tokenized_datasets[\"validation\"], collate_fn=data_collator, batch_size=4, num_workers=eval_num_workers\n",
    ")\n",
    "\n",
    "for batch in train_dataloader:\n",
    "    break\n",
    "print({k:v.shape for k, v in batch.items()})"
   ]
  },
  {
   "cell_type": "code",
   "execution_count": 21,
   "id": "82bee611-e27c-4bcf-9ea8-55b376dd9022",
   "metadata": {},
   "outputs": [],
   "source": [
    "from transformers import get_scheduler\n",
    "\n",
    "num_training_steps = num_epochs * len(train_dataloader)\n",
    "\n",
    "optimizer = torch.optim.AdamW(model.parameters(), lr=3e-5, weight_decay=0.01)\n",
    "lr_scheduler = get_scheduler(\n",
    "    \"polynomial\",\n",
    "    optimizer=optimizer,\n",
    "    num_warmup_steps=200,\n",
    "    num_training_steps=num_training_steps\n",
    ")"
   ]
  },
  {
   "cell_type": "code",
   "execution_count": 22,
   "id": "c56649d3-7401-4ec7-9313-2d7adb25e7e8",
   "metadata": {},
   "outputs": [],
   "source": [
    "def postprocess_text(preds, labels):\n",
    "    # Rouge expects a newline after each sentence\n",
    "    preds = [\"\\n\".join(nltk.sent_tokenize(pred.strip())) for pred in preds]\n",
    "    labels = [\"\\n\".join(nltk.sent_tokenize(label.strip())) for label in labels]\n",
    "    return preds, labels"
   ]
  },
  {
   "cell_type": "code",
   "execution_count": 23,
   "id": "2adc795c-ae28-44a4-9ec4-9daf67ee0777",
   "metadata": {
    "tags": []
   },
   "outputs": [],
   "source": [
    "# Define the loss function\n",
    "# loss_fn = CrossEntropyLoss(label_smoothing=label_smoothing)"
   ]
  },
  {
   "cell_type": "code",
   "execution_count": 24,
   "id": "d1783e2b-6706-4c18-8c3c-6019e930aea6",
   "metadata": {},
   "outputs": [],
   "source": [
    "loss_list = []\n",
    "train_loss_list = []\n",
    "val_loss_list = []\n",
    "rouge1_list = []\n",
    "rouge2_list = []\n",
    "rougeL_list = []\n",
    "rougeLsum_list = []\n",
    "gen_len_list = []"
   ]
  },
  {
   "cell_type": "code",
   "execution_count": 25,
   "id": "2166c8d7-f0a3-46c0-b292-63e9588fdc5e",
   "metadata": {},
   "outputs": [],
   "source": [
    "loss_fn = torch.nn.CrossEntropyLoss(weight=None, size_average=None, \n",
    "                          ignore_index=- 100, reduce=None, \n",
    "                          reduction='mean', label_smoothing=0.1)"
   ]
  },
  {
   "cell_type": "code",
   "execution_count": 26,
   "id": "140f4185-31ff-4eec-a901-2d0df84ff7b2",
   "metadata": {},
   "outputs": [
    {
     "name": "stderr",
     "output_type": "stream",
     "text": [
      "  2%|▏         | 390/19500 [03:49<2:20:10,  2.27it/s]"
     ]
    },
    {
     "name": "stdout",
     "output_type": "stream",
     "text": [
      "Epoch 1 train loss: 4.455750030126327\n",
      "Epoch 1 valid loss: 2.6820323572158813\n",
      "Epoch 1: {'rouge1': 24.7888, 'rouge2': 7.0792, 'rougeL': 17.8498, 'rougeLsum': 22.2592, 'gen_len': 100.0}\n",
      "====================================================================================================\n"
     ]
    },
    {
     "name": "stderr",
     "output_type": "stream",
     "text": [
      "  4%|▍         | 780/19500 [09:10<2:33:55,  2.03it/s]  "
     ]
    },
    {
     "name": "stdout",
     "output_type": "stream",
     "text": [
      "Epoch 2 train loss: 4.0029519857504425\n",
      "Epoch 2 valid loss: 1.8301207113265991\n",
      "Epoch 2: {'rouge1': 27.5741, 'rouge2': 8.5636, 'rougeL': 20.6649, 'rougeLsum': 24.9388, 'gen_len': 58.25}\n",
      "====================================================================================================\n"
     ]
    },
    {
     "name": "stderr",
     "output_type": "stream",
     "text": [
      "  6%|▌         | 1170/19500 [14:31<2:35:37,  1.96it/s] "
     ]
    },
    {
     "name": "stdout",
     "output_type": "stream",
     "text": [
      "Epoch 3 train loss: 3.2852111969238673\n",
      "Epoch 3 valid loss: 1.4592434673309327\n",
      "Epoch 3: {'rouge1': 41.0186, 'rouge2': 17.4078, 'rougeL': 34.1492, 'rougeLsum': 36.7974, 'gen_len': 29.0}\n",
      "====================================================================================================\n"
     ]
    },
    {
     "name": "stderr",
     "output_type": "stream",
     "text": [
      "  8%|▊         | 1560/19500 [19:09<2:29:53,  1.99it/s] "
     ]
    },
    {
     "name": "stdout",
     "output_type": "stream",
     "text": [
      "Epoch 4 train loss: 3.0201288950748935\n",
      "Epoch 4 valid loss: 1.3564872798919678\n",
      "Epoch 4: {'rouge1': 43.0822, 'rouge2': 18.479, 'rougeL': 35.0329, 'rougeLsum': 37.9998, 'gen_len': 31.5}\n",
      "====================================================================================================\n"
     ]
    },
    {
     "name": "stderr",
     "output_type": "stream",
     "text": [
      " 10%|█         | 1950/19500 [23:47<2:10:38,  2.24it/s] "
     ]
    },
    {
     "name": "stdout",
     "output_type": "stream",
     "text": [
      "Epoch 5 train loss: 2.8994432125336083\n",
      "Epoch 5 valid loss: 1.309781045436859\n",
      "Epoch 5: {'rouge1': 44.8891, 'rouge2': 20.3233, 'rougeL': 36.9195, 'rougeLsum': 39.8879, 'gen_len': 36.5}\n",
      "====================================================================================================\n"
     ]
    },
    {
     "name": "stderr",
     "output_type": "stream",
     "text": [
      " 12%|█▏        | 2340/19500 [28:27<2:14:59,  2.12it/s] "
     ]
    },
    {
     "name": "stdout",
     "output_type": "stream",
     "text": [
      "Epoch 6 train loss: 2.82457024989984\n",
      "Epoch 6 valid loss: 1.2829512448310851\n",
      "Epoch 6: {'rouge1': 45.7995, 'rouge2': 21.5746, 'rougeL': 37.918, 'rougeLsum': 41.0576, 'gen_len': 34.75}\n",
      "====================================================================================================\n"
     ]
    },
    {
     "name": "stderr",
     "output_type": "stream",
     "text": [
      " 14%|█▍        | 2730/19500 [33:06<2:19:33,  2.00it/s] "
     ]
    },
    {
     "name": "stdout",
     "output_type": "stream",
     "text": [
      "Epoch 7 train loss: 2.7697174426836844\n",
      "Epoch 7 valid loss: 1.2531166667938232\n",
      "Epoch 7: {'rouge1': 46.4924, 'rouge2': 21.8621, 'rougeL': 38.2682, 'rougeLsum': 41.5129, 'gen_len': 36.25}\n",
      "====================================================================================================\n"
     ]
    },
    {
     "name": "stderr",
     "output_type": "stream",
     "text": [
      " 16%|█▌        | 3120/19500 [37:44<2:06:43,  2.15it/s] "
     ]
    },
    {
     "name": "stdout",
     "output_type": "stream",
     "text": [
      "Epoch 8 train loss: 2.727499629289676\n",
      "Epoch 8 valid loss: 1.2336816844940186\n",
      "Epoch 8: {'rouge1': 46.347, 'rouge2': 21.7212, 'rougeL': 38.1327, 'rougeLsum': 41.4084, 'gen_len': 42.5}\n",
      "====================================================================================================\n"
     ]
    },
    {
     "name": "stderr",
     "output_type": "stream",
     "text": [
      " 18%|█▊        | 3510/19500 [42:26<2:21:46,  1.88it/s] "
     ]
    },
    {
     "name": "stdout",
     "output_type": "stream",
     "text": [
      "Epoch 9 train loss: 2.6966853520809075\n",
      "Epoch 9 valid loss: 1.2161169624328614\n",
      "Epoch 9: {'rouge1': 47.0654, 'rouge2': 22.4506, 'rougeL': 38.9091, 'rougeLsum': 42.0559, 'gen_len': 34.25}\n",
      "====================================================================================================\n"
     ]
    },
    {
     "name": "stderr",
     "output_type": "stream",
     "text": [
      " 20%|██        | 3900/19500 [47:05<1:58:13,  2.20it/s] "
     ]
    },
    {
     "name": "stdout",
     "output_type": "stream",
     "text": [
      "Epoch 10 train loss: 2.6667749472153495\n",
      "Epoch 10 valid loss: 1.1986536870002746\n",
      "Epoch 10: {'rouge1': 47.4352, 'rouge2': 22.9234, 'rougeL': 39.4587, 'rougeLsum': 42.61, 'gen_len': 43.0}\n",
      "====================================================================================================\n"
     ]
    },
    {
     "name": "stderr",
     "output_type": "stream",
     "text": [
      " 22%|██▏       | 4290/19500 [51:45<1:56:18,  2.18it/s] "
     ]
    },
    {
     "name": "stdout",
     "output_type": "stream",
     "text": [
      "Epoch 11 train loss: 2.6377111673355103\n",
      "Epoch 11 valid loss: 1.1871320052146912\n",
      "Epoch 11: {'rouge1': 47.6692, 'rouge2': 23.1726, 'rougeL': 39.6804, 'rougeLsum': 42.828, 'gen_len': 42.25}\n",
      "====================================================================================================\n"
     ]
    },
    {
     "name": "stderr",
     "output_type": "stream",
     "text": [
      " 24%|██▍       | 4680/19500 [56:25<1:52:35,  2.19it/s] "
     ]
    },
    {
     "name": "stdout",
     "output_type": "stream",
     "text": [
      "Epoch 12 train loss: 2.6161778022081426\n",
      "Epoch 12 valid loss: 1.1684843382835388\n",
      "Epoch 12: {'rouge1': 48.1559, 'rouge2': 23.7213, 'rougeL': 40.2619, 'rougeLsum': 43.5055, 'gen_len': 44.0}\n",
      "====================================================================================================\n"
     ]
    },
    {
     "name": "stderr",
     "output_type": "stream",
     "text": [
      " 26%|██▌       | 5070/19500 [1:01:07<2:03:36,  1.95it/s]"
     ]
    },
    {
     "name": "stdout",
     "output_type": "stream",
     "text": [
      "Epoch 13 train loss: 2.5934973190992308\n",
      "Epoch 13 valid loss: 1.1600581917762756\n",
      "Epoch 13: {'rouge1': 48.576, 'rouge2': 24.12, 'rougeL': 40.5581, 'rougeLsum': 43.5583, 'gen_len': 42.25}\n",
      "====================================================================================================\n"
     ]
    },
    {
     "name": "stderr",
     "output_type": "stream",
     "text": [
      " 28%|██▊       | 5460/19500 [1:05:51<2:11:10,  1.78it/s] "
     ]
    },
    {
     "name": "stdout",
     "output_type": "stream",
     "text": [
      "Epoch 14 train loss: 2.5722396673300327\n",
      "Epoch 14 valid loss: 1.1514909701347351\n",
      "Epoch 14: {'rouge1': 48.1818, 'rouge2': 23.9249, 'rougeL': 40.5177, 'rougeLsum': 43.7091, 'gen_len': 42.5}\n",
      "====================================================================================================\n"
     ]
    },
    {
     "name": "stderr",
     "output_type": "stream",
     "text": [
      " 30%|███       | 5850/19500 [1:10:34<1:52:45,  2.02it/s] "
     ]
    },
    {
     "name": "stdout",
     "output_type": "stream",
     "text": [
      "Epoch 15 train loss: 2.5562920741545847\n",
      "Epoch 15 valid loss: 1.1524971718788146\n",
      "Epoch 15: {'rouge1': 48.1933, 'rouge2': 24.0212, 'rougeL': 40.2455, 'rougeLsum': 43.4848, 'gen_len': 42.0}\n",
      "====================================================================================================\n"
     ]
    },
    {
     "name": "stderr",
     "output_type": "stream",
     "text": [
      " 32%|███▏      | 6240/19500 [1:15:18<1:38:33,  2.24it/s] "
     ]
    },
    {
     "name": "stdout",
     "output_type": "stream",
     "text": [
      "Epoch 16 train loss: 2.5386585724659456\n",
      "Epoch 16 valid loss: 1.134584300994873\n",
      "Epoch 16: {'rouge1': 48.4863, 'rouge2': 24.4254, 'rougeL': 40.8933, 'rougeLsum': 43.9463, 'gen_len': 46.75}\n",
      "====================================================================================================\n"
     ]
    },
    {
     "name": "stderr",
     "output_type": "stream",
     "text": [
      " 34%|███▍      | 6630/19500 [1:20:02<1:42:16,  2.10it/s] "
     ]
    },
    {
     "name": "stdout",
     "output_type": "stream",
     "text": [
      "Epoch 17 train loss: 2.521218119523464\n",
      "Epoch 17 valid loss: 1.1309974360466004\n",
      "Epoch 17: {'rouge1': 47.9932, 'rouge2': 24.3776, 'rougeL': 40.5131, 'rougeLsum': 43.5835, 'gen_len': 38.75}\n",
      "====================================================================================================\n"
     ]
    },
    {
     "name": "stderr",
     "output_type": "stream",
     "text": [
      " 36%|███▌      | 7020/19500 [1:24:46<1:43:10,  2.02it/s] "
     ]
    },
    {
     "name": "stdout",
     "output_type": "stream",
     "text": [
      "Epoch 18 train loss: 2.5056820429288424\n",
      "Epoch 18 valid loss: 1.1289202828407288\n",
      "Epoch 18: {'rouge1': 48.2021, 'rouge2': 23.9879, 'rougeL': 40.4623, 'rougeLsum': 43.4058, 'gen_len': 41.25}\n",
      "====================================================================================================\n"
     ]
    },
    {
     "name": "stderr",
     "output_type": "stream",
     "text": [
      " 38%|███▊      | 7410/19500 [1:29:31<1:39:49,  2.02it/s] "
     ]
    },
    {
     "name": "stdout",
     "output_type": "stream",
     "text": [
      "Epoch 19 train loss: 2.4922332806464955\n",
      "Epoch 19 valid loss: 1.1197328844070435\n",
      "Epoch 19: {'rouge1': 48.5808, 'rouge2': 24.5352, 'rougeL': 40.9294, 'rougeLsum': 43.5626, 'gen_len': 46.0}\n",
      "====================================================================================================\n"
     ]
    },
    {
     "name": "stderr",
     "output_type": "stream",
     "text": [
      " 40%|████      | 7800/19500 [1:34:14<1:36:38,  2.02it/s] "
     ]
    },
    {
     "name": "stdout",
     "output_type": "stream",
     "text": [
      "Epoch 20 train loss: 2.476865866856697\n",
      "Epoch 20 valid loss: 1.117470507621765\n",
      "Epoch 20: {'rouge1': 48.2365, 'rouge2': 24.0972, 'rougeL': 40.4588, 'rougeLsum': 43.661, 'gen_len': 44.75}\n",
      "====================================================================================================\n"
     ]
    },
    {
     "name": "stderr",
     "output_type": "stream",
     "text": [
      " 42%|████▏     | 8190/19500 [1:39:02<1:29:25,  2.11it/s] "
     ]
    },
    {
     "name": "stdout",
     "output_type": "stream",
     "text": [
      "Epoch 21 train loss: 2.462238650444226\n",
      "Epoch 21 valid loss: 1.10997985124588\n",
      "Epoch 21: {'rouge1': 48.6498, 'rouge2': 24.7991, 'rougeL': 40.9845, 'rougeLsum': 43.9221, 'gen_len': 48.75}\n",
      "====================================================================================================\n"
     ]
    },
    {
     "name": "stderr",
     "output_type": "stream",
     "text": [
      " 44%|████▍     | 8580/19500 [1:43:47<1:23:36,  2.18it/s] "
     ]
    },
    {
     "name": "stdout",
     "output_type": "stream",
     "text": [
      "Epoch 22 train loss: 2.447915480687068\n",
      "Epoch 22 valid loss: 1.1143221802711487\n",
      "Epoch 22: {'rouge1': 49.1432, 'rouge2': 25.0468, 'rougeL': 41.3053, 'rougeLsum': 44.3995, 'gen_len': 46.0}\n",
      "====================================================================================================\n"
     ]
    },
    {
     "name": "stderr",
     "output_type": "stream",
     "text": [
      " 46%|████▌     | 8970/19500 [1:48:30<1:26:41,  2.02it/s] "
     ]
    },
    {
     "name": "stdout",
     "output_type": "stream",
     "text": [
      "Epoch 23 train loss: 2.4358163790825085\n",
      "Epoch 23 valid loss: 1.106717149734497\n",
      "Epoch 23: {'rouge1': 48.5548, 'rouge2': 24.4341, 'rougeL': 40.8293, 'rougeLsum': 43.6377, 'gen_len': 45.75}\n",
      "====================================================================================================\n"
     ]
    },
    {
     "name": "stderr",
     "output_type": "stream",
     "text": [
      " 48%|████▊     | 9360/19500 [1:53:18<1:28:14,  1.92it/s] "
     ]
    },
    {
     "name": "stdout",
     "output_type": "stream",
     "text": [
      "Epoch 24 train loss: 2.4224513408465262\n",
      "Epoch 24 valid loss: 1.1049160199165344\n",
      "Epoch 24: {'rouge1': 48.6963, 'rouge2': 24.373, 'rougeL': 40.9489, 'rougeLsum': 43.9558, 'gen_len': 45.5}\n",
      "====================================================================================================\n"
     ]
    },
    {
     "name": "stderr",
     "output_type": "stream",
     "text": [
      " 50%|█████     | 9750/19500 [1:58:06<1:10:55,  2.29it/s] "
     ]
    },
    {
     "name": "stdout",
     "output_type": "stream",
     "text": [
      "Epoch 25 train loss: 2.409760354115413\n",
      "Epoch 25 valid loss: 1.1027177934646606\n",
      "Epoch 25: {'rouge1': 48.9938, 'rouge2': 25.0359, 'rougeL': 41.4183, 'rougeLsum': 44.4942, 'gen_len': 37.75}\n",
      "====================================================================================================\n"
     ]
    },
    {
     "name": "stderr",
     "output_type": "stream",
     "text": [
      " 52%|█████▏    | 10140/19500 [2:02:49<1:13:58,  2.11it/s]"
     ]
    },
    {
     "name": "stdout",
     "output_type": "stream",
     "text": [
      "Epoch 26 train loss: 2.39734671543806\n",
      "Epoch 26 valid loss: 1.0983335995674133\n",
      "Epoch 26: {'rouge1': 50.4595, 'rouge2': 26.3818, 'rougeL': 43.2, 'rougeLsum': 45.9212, 'gen_len': 43.0}\n",
      "====================================================================================================\n"
     ]
    },
    {
     "name": "stderr",
     "output_type": "stream",
     "text": [
      " 54%|█████▍    | 10530/19500 [2:07:30<1:15:07,  1.99it/s] "
     ]
    },
    {
     "name": "stdout",
     "output_type": "stream",
     "text": [
      "Epoch 27 train loss: 2.3871717660855025\n",
      "Epoch 27 valid loss: 1.0933448791503906\n",
      "Epoch 27: {'rouge1': 49.3145, 'rouge2': 25.3848, 'rougeL': 41.9658, 'rougeLsum': 44.7637, 'gen_len': 40.75}\n",
      "====================================================================================================\n"
     ]
    },
    {
     "name": "stderr",
     "output_type": "stream",
     "text": [
      " 56%|█████▌    | 10920/19500 [2:12:17<1:10:09,  2.04it/s] "
     ]
    },
    {
     "name": "stdout",
     "output_type": "stream",
     "text": [
      "Epoch 28 train loss: 2.373600139373388\n",
      "Epoch 28 valid loss: 1.0989979300498962\n",
      "Epoch 28: {'rouge1': 49.7359, 'rouge2': 25.5559, 'rougeL': 42.2777, 'rougeLsum': 44.9676, 'gen_len': 42.75}\n",
      "====================================================================================================\n"
     ]
    },
    {
     "name": "stderr",
     "output_type": "stream",
     "text": [
      " 58%|█████▊    | 11310/19500 [2:17:00<1:04:28,  2.12it/s] "
     ]
    },
    {
     "name": "stdout",
     "output_type": "stream",
     "text": [
      "Epoch 29 train loss: 2.362253337028699\n",
      "Epoch 29 valid loss: 1.095597137451172\n",
      "Epoch 29: {'rouge1': 49.8613, 'rouge2': 25.9993, 'rougeL': 42.4926, 'rougeLsum': 45.2359, 'gen_len': 41.0}\n",
      "====================================================================================================\n"
     ]
    },
    {
     "name": "stderr",
     "output_type": "stream",
     "text": [
      " 60%|██████    | 11700/19500 [2:21:41<1:04:32,  2.01it/s] "
     ]
    },
    {
     "name": "stdout",
     "output_type": "stream",
     "text": [
      "Epoch 30 train loss: 2.348516739331759\n",
      "Epoch 30 valid loss: 1.0957431416511536\n",
      "Epoch 30: {'rouge1': 49.6375, 'rouge2': 25.7267, 'rougeL': 41.7981, 'rougeLsum': 44.8289, 'gen_len': 44.75}\n",
      "====================================================================================================\n"
     ]
    },
    {
     "name": "stderr",
     "output_type": "stream",
     "text": [
      " 62%|██████▏   | 12090/19500 [2:26:29<1:01:26,  2.01it/s] "
     ]
    },
    {
     "name": "stdout",
     "output_type": "stream",
     "text": [
      "Epoch 31 train loss: 2.335143006153596\n",
      "Epoch 31 valid loss: 1.0922203097343446\n",
      "Epoch 31: {'rouge1': 49.9422, 'rouge2': 25.9144, 'rougeL': 42.6376, 'rougeLsum': 45.1297, 'gen_len': 47.0}\n",
      "====================================================================================================\n"
     ]
    },
    {
     "name": "stderr",
     "output_type": "stream",
     "text": [
      " 64%|██████▍   | 12480/19500 [2:31:12<57:06,  2.05it/s]   "
     ]
    },
    {
     "name": "stdout",
     "output_type": "stream",
     "text": [
      "Epoch 32 train loss: 2.3274384278517504\n",
      "Epoch 32 valid loss: 1.0976328382492064\n",
      "Epoch 32: {'rouge1': 49.8093, 'rouge2': 26.1036, 'rougeL': 42.3199, 'rougeLsum': 45.4564, 'gen_len': 38.5}\n",
      "====================================================================================================\n"
     ]
    },
    {
     "name": "stderr",
     "output_type": "stream",
     "text": [
      " 66%|██████▌   | 12870/19500 [2:35:53<51:08,  2.16it/s]   "
     ]
    },
    {
     "name": "stdout",
     "output_type": "stream",
     "text": [
      "Epoch 33 train loss: 2.315287952545362\n",
      "Epoch 33 valid loss: 1.0839706354141236\n",
      "Epoch 33: {'rouge1': 50.1864, 'rouge2': 26.0048, 'rougeL': 42.5528, 'rougeLsum': 45.4605, 'gen_len': 41.5}\n",
      "====================================================================================================\n"
     ]
    },
    {
     "name": "stderr",
     "output_type": "stream",
     "text": [
      " 68%|██████▊   | 13260/19500 [2:40:38<49:51,  2.09it/s]   "
     ]
    },
    {
     "name": "stdout",
     "output_type": "stream",
     "text": [
      "Epoch 34 train loss: 2.301818529764811\n",
      "Epoch 34 valid loss: 1.0880582671165466\n",
      "Epoch 34: {'rouge1': 50.4674, 'rouge2': 26.3063, 'rougeL': 42.7863, 'rougeLsum': 45.8296, 'gen_len': 44.5}\n",
      "====================================================================================================\n"
     ]
    },
    {
     "name": "stderr",
     "output_type": "stream",
     "text": [
      " 70%|███████   | 13650/19500 [2:45:25<46:21,  2.10it/s]   "
     ]
    },
    {
     "name": "stdout",
     "output_type": "stream",
     "text": [
      "Epoch 35 train loss: 2.291225187595074\n",
      "Epoch 35 valid loss: 1.0942644495964051\n",
      "Epoch 35: {'rouge1': 50.591, 'rouge2': 26.3102, 'rougeL': 42.6872, 'rougeLsum': 45.8038, 'gen_len': 46.25}\n",
      "====================================================================================================\n"
     ]
    },
    {
     "name": "stderr",
     "output_type": "stream",
     "text": [
      " 72%|███████▏  | 14040/19500 [2:50:09<41:23,  2.20it/s]   "
     ]
    },
    {
     "name": "stdout",
     "output_type": "stream",
     "text": [
      "Epoch 36 train loss: 2.280527955446488\n",
      "Epoch 36 valid loss: 1.091855839252472\n",
      "Epoch 36: {'rouge1': 50.2214, 'rouge2': 25.8381, 'rougeL': 42.2431, 'rougeLsum': 45.1884, 'gen_len': 42.0}\n",
      "====================================================================================================\n"
     ]
    },
    {
     "name": "stderr",
     "output_type": "stream",
     "text": [
      " 74%|███████▍  | 14430/19500 [2:54:55<39:38,  2.13it/s]   "
     ]
    },
    {
     "name": "stdout",
     "output_type": "stream",
     "text": [
      "Epoch 37 train loss: 2.267558597907042\n",
      "Epoch 37 valid loss: 1.0883171820640565\n",
      "Epoch 37: {'rouge1': 50.8041, 'rouge2': 26.3363, 'rougeL': 42.9867, 'rougeLsum': 45.9064, 'gen_len': 43.0}\n",
      "====================================================================================================\n"
     ]
    },
    {
     "name": "stderr",
     "output_type": "stream",
     "text": [
      " 76%|███████▌  | 14820/19500 [2:59:38<35:57,  2.17it/s]   "
     ]
    },
    {
     "name": "stdout",
     "output_type": "stream",
     "text": [
      "Epoch 38 train loss: 2.256138075926365\n",
      "Epoch 38 valid loss: 1.091917730331421\n",
      "Epoch 38: {'rouge1': 49.9769, 'rouge2': 25.9688, 'rougeL': 42.396, 'rougeLsum': 45.4982, 'gen_len': 43.0}\n",
      "====================================================================================================\n"
     ]
    },
    {
     "name": "stderr",
     "output_type": "stream",
     "text": [
      " 78%|███████▊  | 15210/19500 [3:04:22<36:05,  1.98it/s]   "
     ]
    },
    {
     "name": "stdout",
     "output_type": "stream",
     "text": [
      "Epoch 39 train loss: 2.248090841831305\n",
      "Epoch 39 valid loss: 1.0922027535438537\n",
      "Epoch 39: {'rouge1': 50.8797, 'rouge2': 27.3054, 'rougeL': 43.2679, 'rougeLsum': 45.9827, 'gen_len': 40.0}\n",
      "====================================================================================================\n"
     ]
    },
    {
     "name": "stderr",
     "output_type": "stream",
     "text": [
      " 80%|████████  | 15600/19500 [3:09:08<33:47,  1.92it/s]   "
     ]
    },
    {
     "name": "stdout",
     "output_type": "stream",
     "text": [
      "Epoch 40 train loss: 2.2367856789857914\n",
      "Epoch 40 valid loss: 1.0918066062927245\n",
      "Epoch 40: {'rouge1': 50.2296, 'rouge2': 26.1999, 'rougeL': 42.6607, 'rougeLsum': 45.4935, 'gen_len': 43.25}\n",
      "====================================================================================================\n"
     ]
    },
    {
     "name": "stderr",
     "output_type": "stream",
     "text": [
      " 82%|████████▏ | 15990/19500 [3:13:53<29:05,  2.01it/s]   "
     ]
    },
    {
     "name": "stdout",
     "output_type": "stream",
     "text": [
      "Epoch 41 train loss: 2.225025581090878\n",
      "Epoch 41 valid loss: 1.0923011837005616\n",
      "Epoch 41: {'rouge1': 50.2833, 'rouge2': 26.2153, 'rougeL': 42.6886, 'rougeLsum': 45.3609, 'gen_len': 40.5}\n",
      "====================================================================================================\n"
     ]
    },
    {
     "name": "stderr",
     "output_type": "stream",
     "text": [
      " 84%|████████▍ | 16380/19500 [3:18:36<24:35,  2.12it/s]   "
     ]
    },
    {
     "name": "stdout",
     "output_type": "stream",
     "text": [
      "Epoch 42 train loss: 2.2141732814984443\n",
      "Epoch 42 valid loss: 1.095069049358368\n",
      "Epoch 42: {'rouge1': 50.2251, 'rouge2': 26.4866, 'rougeL': 42.5422, 'rougeLsum': 45.3849, 'gen_len': 45.75}\n",
      "====================================================================================================\n"
     ]
    },
    {
     "name": "stderr",
     "output_type": "stream",
     "text": [
      " 86%|████████▌ | 16770/19500 [3:23:25<21:34,  2.11it/s]   "
     ]
    },
    {
     "name": "stdout",
     "output_type": "stream",
     "text": [
      "Epoch 43 train loss: 2.2019776307619536\n",
      "Epoch 43 valid loss: 1.1017887620925904\n",
      "Epoch 43: {'rouge1': 50.6396, 'rouge2': 26.7859, 'rougeL': 42.7829, 'rougeLsum': 45.6889, 'gen_len': 43.5}\n",
      "====================================================================================================\n"
     ]
    },
    {
     "name": "stderr",
     "output_type": "stream",
     "text": [
      " 88%|████████▊ | 17160/19500 [3:28:12<18:54,  2.06it/s]   "
     ]
    },
    {
     "name": "stdout",
     "output_type": "stream",
     "text": [
      "Epoch 44 train loss: 2.1915833736077333\n",
      "Epoch 44 valid loss: 1.0978384933471679\n",
      "Epoch 44: {'rouge1': 49.8946, 'rouge2': 25.8059, 'rougeL': 42.4034, 'rougeLsum': 45.2591, 'gen_len': 46.75}\n",
      "====================================================================================================\n"
     ]
    },
    {
     "name": "stderr",
     "output_type": "stream",
     "text": [
      " 90%|█████████ | 17550/19500 [3:32:58<14:26,  2.25it/s]   "
     ]
    },
    {
     "name": "stdout",
     "output_type": "stream",
     "text": [
      "Epoch 45 train loss: 2.1789748653387413\n",
      "Epoch 45 valid loss: 1.0927824411392213\n",
      "Epoch 45: {'rouge1': 51.2888, 'rouge2': 27.3871, 'rougeL': 43.8653, 'rougeLsum': 46.6491, 'gen_len': 42.25}\n",
      "====================================================================================================\n"
     ]
    },
    {
     "name": "stderr",
     "output_type": "stream",
     "text": [
      " 92%|█████████▏| 17940/19500 [3:37:44<12:58,  2.01it/s]  "
     ]
    },
    {
     "name": "stdout",
     "output_type": "stream",
     "text": [
      "Epoch 46 train loss: 2.169994462453402\n",
      "Epoch 46 valid loss: 1.0993672122955322\n",
      "Epoch 46: {'rouge1': 51.7696, 'rouge2': 27.7467, 'rougeL': 44.333, 'rougeLsum': 47.0836, 'gen_len': 43.25}\n",
      "====================================================================================================\n"
     ]
    },
    {
     "name": "stderr",
     "output_type": "stream",
     "text": [
      " 94%|█████████▍| 18330/19500 [3:42:28<09:27,  2.06it/s]  "
     ]
    },
    {
     "name": "stdout",
     "output_type": "stream",
     "text": [
      "Epoch 47 train loss: 2.157068898738959\n",
      "Epoch 47 valid loss: 1.1082210640907288\n",
      "Epoch 47: {'rouge1': 50.9387, 'rouge2': 26.7043, 'rougeL': 43.385, 'rougeLsum': 46.2588, 'gen_len': 41.75}\n",
      "====================================================================================================\n"
     ]
    },
    {
     "name": "stderr",
     "output_type": "stream",
     "text": [
      " 96%|█████████▌| 18720/19500 [3:47:12<06:02,  2.15it/s]  "
     ]
    },
    {
     "name": "stdout",
     "output_type": "stream",
     "text": [
      "Epoch 48 train loss: 2.145663472322317\n",
      "Epoch 48 valid loss: 1.1033246808052064\n",
      "Epoch 48: {'rouge1': 50.7586, 'rouge2': 26.929, 'rougeL': 43.1819, 'rougeLsum': 45.8814, 'gen_len': 41.0}\n",
      "====================================================================================================\n"
     ]
    },
    {
     "name": "stderr",
     "output_type": "stream",
     "text": [
      " 98%|█████████▊| 19110/19500 [3:51:57<03:26,  1.89it/s]  "
     ]
    },
    {
     "name": "stdout",
     "output_type": "stream",
     "text": [
      "Epoch 49 train loss: 2.1352252312195605\n",
      "Epoch 49 valid loss: 1.1075386157035827\n",
      "Epoch 49: {'rouge1': 50.7388, 'rouge2': 27.0541, 'rougeL': 43.3224, 'rougeLsum': 46.0725, 'gen_len': 41.0}\n",
      "====================================================================================================\n"
     ]
    },
    {
     "name": "stderr",
     "output_type": "stream",
     "text": [
      "100%|██████████| 19500/19500 [3:56:43<00:00,  2.04it/s]  "
     ]
    },
    {
     "name": "stdout",
     "output_type": "stream",
     "text": [
      "Epoch 50 train loss: 2.124158292550307\n",
      "Epoch 50 valid loss: 1.1095893144607545\n",
      "Epoch 50: {'rouge1': 51.264, 'rouge2': 27.5083, 'rougeL': 43.9146, 'rougeLsum': 46.7641, 'gen_len': 40.5}\n",
      "====================================================================================================\n"
     ]
    }
   ],
   "source": [
    "from tqdm import tqdm\n",
    "progress_bar = tqdm(range(num_training_steps))\n",
    "\n",
    "# Training loop\n",
    "best_rouge_1_score = 0.0\n",
    "best_model_weights = None\n",
    "best_loss = 0.0\n",
    "\n",
    "for epoch in range(num_epochs):\n",
    "    model.train()\n",
    "    epoch_loss = 0.0\n",
    "    for step, batch in enumerate(train_dataloader):\n",
    "        input_ids = batch['input_ids'].squeeze().to(device)\n",
    "        attention_mask = batch['attention_mask'].squeeze().to(device)\n",
    "        target_ids = batch['labels'].squeeze().to(device)\n",
    "        \n",
    "        optimizer.zero_grad()\n",
    "        with torch.cuda.amp.autocast():\n",
    "            outputs = model(input_ids=input_ids,\n",
    "                        attention_mask=attention_mask, labels=target_ids)\n",
    "\n",
    "            # logits = outputs.logits\n",
    "            # Calculate the loss\n",
    "            # loss = loss_fn(logits.view(-1, logits.shape[-1]), target_ids.view(-1))\n",
    "            logits = outputs.logits\n",
    "            # print(target_ids.view(-1).shape)\n",
    "            # print(logits.view(-1, logits.size(-1)).shape)\n",
    "            # Calculate the loss with label smoothing\n",
    "            # loss = criterion(logits.view(-1, logits.size(-1)), target_ids.view(-1))\n",
    "            # loss = loss_fn(outputs.logits, target_ids)\n",
    "            loss = loss_fn(logits.view(-1, logits.size(-1)), target_ids.view(-1))\n",
    "            \n",
    "            # loss = outputs.loss\n",
    "            loss_list.append(loss)\n",
    "            \n",
    "        scaler.scale(loss).backward()\n",
    "\n",
    "        # Accumulate gradients for specified number of batches\n",
    "        if (step + 1) % accumulate_grad_batch == 0:\n",
    "            # Unscale the gradients and apply gradient clipping if desired\n",
    "            scaler.unscale_(optimizer)\n",
    "            torch.nn.utils.clip_grad_norm_(model.parameters(), max_grad_norm)\n",
    "            \n",
    "            # Update the model weights\n",
    "            scaler.step(optimizer)\n",
    "            \n",
    "            # Update the scaler for the next iteration\n",
    "            scaler.update()\n",
    "            # lr_scheduler.step()\n",
    "            # optimizer.zero_grad()\n",
    "\n",
    "        progress_bar.update(1)\n",
    "        epoch_loss += loss.item()\n",
    "        \n",
    "    lr_scheduler.step()\n",
    "    print(f\"Epoch {epoch+1} train loss: {epoch_loss/len(train_dataloader)}\")\n",
    "    train_loss_list.append(epoch_loss/len(train_dataloader))\n",
    "    # if epoch < num_sanity_val_steps:\n",
    "    #     continue\n",
    "    \n",
    "    model.eval()\n",
    "    val_loss = 0.0\n",
    "    for step, batch in enumerate(eval_dataloader):\n",
    "        predictions = []\n",
    "        with torch.no_grad():\n",
    "            input_ids = batch['input_ids'].squeeze().to(device)\n",
    "            attention_mask = batch['attention_mask'].squeeze().to(device)\n",
    "            target_ids = batch['labels'].squeeze().to(device)\n",
    "            \n",
    "            # Set the model's maximum length for generated summaries\n",
    "            # model.config.max_length = eval_max_length\n",
    "            \n",
    "            # optimizer.zero_grad()\n",
    "            with torch.cuda.amp.autocast():\n",
    "                outputs = model(input_ids=input_ids,\n",
    "                                attention_mask=attention_mask, labels=target_ids)\n",
    "                \n",
    "                # logits = outputs.logits\n",
    "\n",
    "                # Calculate the loss\n",
    "                # loss = loss_fn(logits.view(-1, logits.shape[-1]), target_ids.view(-1))\n",
    "\n",
    "                loss = outputs.loss\n",
    "            \n",
    "            val_loss += loss.item()\n",
    "            \n",
    "            generated_tokens = model.generate(input_ids, num_beams=5, max_length=100, bos_token_id=0,\n",
    "                                              decoder_start_token_id = 2,\n",
    "                                              early_stopping = True,\n",
    "                                              eos_token_id = 2,\n",
    "                                              forced_bos_token_id = 0,\n",
    "                                              forced_eos_token_id = 2,\n",
    "                                              no_repeat_ngram_size = 3,\n",
    "                                              pad_token_id = 1,)\n",
    "            labels = target_ids\n",
    "            generated_tokens = generated_tokens.cpu().numpy()\n",
    "            labels = labels.cpu().numpy()\n",
    "            # Replace -100 in the labels as we can't decode them\n",
    "            labels = np.where(labels != -100, labels, tokenizer.pad_token_id)\n",
    "            if isinstance(generated_tokens, tuple):\n",
    "                generated_tokens = generated_tokens[0]\n",
    "            predictions.append(generated_tokens)\n",
    "            decoded_preds = tokenizer.batch_decode(\n",
    "                generated_tokens, skip_special_tokens=True\n",
    "            )\n",
    "            decoded_labels = tokenizer.batch_decode(labels, skip_special_tokens=True)\n",
    "            decoded_preds, decoded_labels = postprocess_text(\n",
    "                decoded_preds, decoded_labels\n",
    "            )\n",
    "            metric.add_batch(predictions=decoded_preds, references=decoded_labels)\n",
    "\n",
    "    # Compute metrics\n",
    "    result = metric.compute()\n",
    "    # Extract the median ROUGE scores\n",
    "    result = {key: value.mid.fmeasure * 100 for key, value in result.items()}\n",
    "    # Add mean generated length\n",
    "    prediction_lens = [np.count_nonzero(pred != 1) for pred in predictions[0]]\n",
    "    result[\"gen_len\"] = np.mean(prediction_lens)\n",
    "    result = {k: round(v, 4) for k, v in result.items()}\n",
    "    print(f\"Epoch {epoch+1} valid loss: {val_loss/len(eval_dataloader)}\")\n",
    "    print(f\"Epoch {epoch+1}:\", result)\n",
    "    val_loss_list.append(val_loss/len(eval_dataloader))\n",
    "    rouge1_list.append(result['rouge1'])\n",
    "    rouge2_list.append(result['rouge2'])\n",
    "    rougeL_list.append(result['rougeL'])\n",
    "    rougeLsum_list.append(result['rougeLsum'])\n",
    "    gen_len_list.append(result['gen_len'])\n",
    "    print(\"=\"*100)\n",
    "    \n",
    "    rouge_1_score = result['rouge1']\n",
    "    # Check if the current model is the best based on ROUGE-1 score\n",
    "    if rouge_1_score > best_rouge_1_score:\n",
    "        best_rouge_1_score = rouge_1_score\n",
    "        best_model_weights = model.state_dict()\n",
    "        \n",
    "    # val_loss /= len(eval_dataloader)\n",
    "    # # Check if the current validation loss is the best so far\n",
    "    # if val_loss < best_loss:\n",
    "    #     best_loss = val_loss\n",
    "    #     patience = 0\n",
    "    # else:\n",
    "    #     patience += 1\n",
    "    #     print(\"patience + 1\")\n",
    "\n",
    "    # # Check if early stopping condition is met\n",
    "    # if patience >= max_patience:\n",
    "    #     best_model_loss = model.state_dict()\n",
    "    #     print(\"Early stopping triggered.\")\n",
    "    #     break\n",
    "    \n",
    "# Load the best model based on the ROUGE-1 score\n",
    "# model.load_state_dict(best_model_weights)"
   ]
  },
  {
   "cell_type": "code",
   "execution_count": 27,
   "id": "7920a6ac-9426-4750-9e38-4ee28b8faa17",
   "metadata": {},
   "outputs": [],
   "source": [
    "tokenizer.save_pretrained(\"./bart-input-512-target-100-pytorch-baseline-50-epochs-2\")\n",
    "model.save_pretrained(\"./bart-input-512-target-100-pytorch-baseline-50-epochs-2\")"
   ]
  },
  {
   "cell_type": "code",
   "execution_count": 28,
   "id": "0670c889-240b-4730-8c76-678faa55f5fe",
   "metadata": {
    "tags": []
   },
   "outputs": [],
   "source": [
    "# tokenizer = AutoTokenizer.from_pretrained(\"./bart-input-512-target-100-pytorch-baseline-50-epochs\")\n",
    "# model = AutoModelForSeq2SeqLM.from_pretrained(\"./bart-input-512-target-100-pytorch-baseline-50-epochs\")"
   ]
  },
  {
   "cell_type": "code",
   "execution_count": 29,
   "id": "f014b948-4f48-4e9a-8201-aea063b52d82",
   "metadata": {
    "tags": []
   },
   "outputs": [],
   "source": [
    "# import torch\n",
    "# device = torch.device(\"cuda:0\")\n",
    "# model = model.to(device)"
   ]
  },
  {
   "cell_type": "code",
   "execution_count": 30,
   "id": "93a0cd0b-c7e2-497f-adb1-1cfe56df6e51",
   "metadata": {},
   "outputs": [],
   "source": [
    "def transform_test_file(file):\n",
    "    data = open(file,\"r\").readlines()\n",
    "    result = {\"fname\":[],\"summary%d\"%TEST_SUMMARY_ID:[],\"dialogue\":[]}\n",
    "    for i in data[:]:\n",
    "        d = json.loads(i)\n",
    "        for j in d.keys():\n",
    "            if j in result.keys():\n",
    "                result[j].append(d[j])\n",
    "    \n",
    "    result[\"summary\"] = result[\"summary%d\"%TEST_SUMMARY_ID]\n",
    "    return Dataset.from_dict(result)"
   ]
  },
  {
   "cell_type": "code",
   "execution_count": 31,
   "id": "b6231c5d-b188-4b4e-836d-cc7a1bb72616",
   "metadata": {},
   "outputs": [],
   "source": [
    "TEST_SUMMARY_ID = 1"
   ]
  },
  {
   "cell_type": "code",
   "execution_count": 32,
   "id": "d05d0a3f-0d9a-4358-aba9-dba856dffc32",
   "metadata": {},
   "outputs": [],
   "source": [
    "test_1 = transform_test_file('./dataset/dialogsum/DialogSum_Data/dialogsum.test.jsonl')"
   ]
  },
  {
   "cell_type": "code",
   "execution_count": 33,
   "id": "64f9da88-ce36-4ef9-a9b1-d7b7af489c7a",
   "metadata": {},
   "outputs": [],
   "source": [
    "TEST_SUMMARY_ID = 2"
   ]
  },
  {
   "cell_type": "code",
   "execution_count": 34,
   "id": "bfbdd55b-1fb5-4a60-84f4-3ec4be2e0b7a",
   "metadata": {},
   "outputs": [],
   "source": [
    "test_2 = transform_test_file('./dataset/dialogsum/DialogSum_Data/dialogsum.test.jsonl')"
   ]
  },
  {
   "cell_type": "code",
   "execution_count": 35,
   "id": "3a09c8f1-8f8a-47d6-9835-6edb97b9ca7e",
   "metadata": {},
   "outputs": [],
   "source": [
    "TEST_SUMMARY_ID = 3"
   ]
  },
  {
   "cell_type": "code",
   "execution_count": 36,
   "id": "3c60ebcf-eb8c-48f4-af9e-a8695bcca4be",
   "metadata": {},
   "outputs": [],
   "source": [
    "test_3 = transform_test_file('./dataset/dialogsum/DialogSum_Data/dialogsum.test.jsonl')"
   ]
  },
  {
   "cell_type": "code",
   "execution_count": 37,
   "id": "788866ea-de9b-432b-b5f1-c659cf83a725",
   "metadata": {},
   "outputs": [],
   "source": [
    "test_datasets = DatasetDict({\"test_1\":test_1,\"test_2\":test_2,\"test_3\":test_3})"
   ]
  },
  {
   "cell_type": "code",
   "execution_count": 38,
   "id": "dd28dd90-78cf-4758-a293-10aa601325bc",
   "metadata": {},
   "outputs": [],
   "source": [
    "def generate_summary(text):\n",
    "    input_encoding_dict = tokenizer.batch_encode_plus(\n",
    "        [text], max_length=512, padding='max_length', truncation=True, return_tensors='pt')\n",
    "    input_ids = input_encoding_dict['input_ids'].to(device)\n",
    "    attention_mask = input_encoding_dict['attention_mask'].to(device)\n",
    "    summary_ids = model.generate(input_ids=input_ids,\n",
    "                                 attention_mask=attention_mask,\n",
    "                                 num_beams=5,\n",
    "                                 length_penalty=1.0,\n",
    "                                 max_length=100,\n",
    "                                 early_stopping=True)\n",
    "\n",
    "    summary = tokenizer.decode(summary_ids[0], skip_special_tokens=True)\n",
    "\n",
    "    return summary"
   ]
  },
  {
   "cell_type": "code",
   "execution_count": 39,
   "id": "de330ed7-e5fc-42ea-9c5c-97919de8167f",
   "metadata": {
    "tags": []
   },
   "outputs": [],
   "source": [
    "test1 = test_datasets['test_1']"
   ]
  },
  {
   "cell_type": "code",
   "execution_count": 40,
   "id": "745fd0ff-e651-4085-8dab-d6f423df0326",
   "metadata": {
    "tags": []
   },
   "outputs": [],
   "source": [
    "hypothesis = []\n",
    "reference = []\n",
    "for i in test1:\n",
    "    hyp = generate_summary(i['dialogue'])\n",
    "    reference.append(i['summary'])\n",
    "    hypothesis.append(hyp)"
   ]
  },
  {
   "cell_type": "code",
   "execution_count": 41,
   "id": "9291bddb-2e56-46c3-a066-9b0aa0f7bbdc",
   "metadata": {
    "tags": []
   },
   "outputs": [],
   "source": [
    "metrics = load_metric('rouge.py')"
   ]
  },
  {
   "cell_type": "code",
   "execution_count": 42,
   "id": "afbfdb7a-941c-4c2e-9c83-bf12ad59a0cf",
   "metadata": {
    "tags": []
   },
   "outputs": [],
   "source": [
    "metrics.add_batch(predictions=hypothesis, references=reference)\n",
    "# Compute metrics\n",
    "results = metrics.compute()\n",
    "# Extract the median ROUGE scores\n",
    "results = {key: value.mid.fmeasure * 100 for key, value in results.items()}"
   ]
  },
  {
   "cell_type": "code",
   "execution_count": 43,
   "id": "755ad957-16de-479a-9611-bd4b9a0321b1",
   "metadata": {
    "tags": []
   },
   "outputs": [
    {
     "data": {
      "text/plain": [
       "{'rouge1': 47.18161750679005,\n",
       " 'rouge2': 21.570602040030334,\n",
       " 'rougeL': 39.20242183972073,\n",
       " 'rougeLsum': 39.215194567027524}"
      ]
     },
     "execution_count": 43,
     "metadata": {},
     "output_type": "execute_result"
    }
   ],
   "source": [
    "results"
   ]
  },
  {
   "cell_type": "code",
   "execution_count": 44,
   "id": "ade1c26d-55ca-4cad-b223-e17353c97ef4",
   "metadata": {
    "tags": []
   },
   "outputs": [
    {
     "data": {
      "text/plain": [
       "<All keys matched successfully>"
      ]
     },
     "execution_count": 44,
     "metadata": {},
     "output_type": "execute_result"
    }
   ],
   "source": [
    "model.load_state_dict(best_model_weights)"
   ]
  },
  {
   "cell_type": "code",
   "execution_count": 45,
   "id": "514b3041-ea81-4f9e-bf78-c10288d7fb6b",
   "metadata": {
    "tags": []
   },
   "outputs": [],
   "source": [
    "def generate_summary(text):\n",
    "    input_encoding_dict = tokenizer.batch_encode_plus(\n",
    "        [text], max_length=512, padding='max_length', truncation=True, return_tensors='pt')\n",
    "    input_ids = input_encoding_dict['input_ids'].to(device)\n",
    "    attention_mask = input_encoding_dict['attention_mask'].to(device)\n",
    "    summary_ids = model.generate(input_ids=input_ids,\n",
    "                                 attention_mask=attention_mask,\n",
    "                                 num_beams=5,\n",
    "                                 length_penalty=1.0,\n",
    "                                 max_length=100,\n",
    "                                 early_stopping=True)\n",
    "\n",
    "    summary = tokenizer.decode(summary_ids[0], skip_special_tokens=True)\n",
    "\n",
    "    return summary"
   ]
  },
  {
   "cell_type": "code",
   "execution_count": 46,
   "id": "22b5f293-fb89-4c2a-b430-ba526760d2c9",
   "metadata": {
    "tags": []
   },
   "outputs": [],
   "source": [
    "test1 = test_datasets['test_1']"
   ]
  },
  {
   "cell_type": "code",
   "execution_count": 47,
   "id": "b88f9375-1570-4dcc-8975-cd0f452b5d6c",
   "metadata": {
    "tags": []
   },
   "outputs": [],
   "source": [
    "hypothesis = []\n",
    "reference = []\n",
    "for i in test1:\n",
    "    hyp = generate_summary(i['dialogue'])\n",
    "    reference.append(i['summary'])\n",
    "    hypothesis.append(hyp)"
   ]
  },
  {
   "cell_type": "code",
   "execution_count": 48,
   "id": "8b373f70-f8d9-4c90-a7c4-28c290674461",
   "metadata": {
    "tags": []
   },
   "outputs": [],
   "source": [
    "metrics_best_weights = load_metric('rouge.py')"
   ]
  },
  {
   "cell_type": "code",
   "execution_count": 49,
   "id": "e60be1e1-dded-4b81-a08c-9da9c92a4594",
   "metadata": {
    "tags": []
   },
   "outputs": [],
   "source": [
    "metrics_best_weights.add_batch(predictions=hypothesis, references=reference)\n",
    "# Compute metrics\n",
    "results_best_weights = metrics_best_weights.compute()\n",
    "# Extract the median ROUGE scores\n",
    "results_best_weights = {key: value.mid.fmeasure * 100 for key, value in results_best_weights.items()}"
   ]
  },
  {
   "cell_type": "code",
   "execution_count": 50,
   "id": "66a2671f-d125-4abb-8b31-ffd34376ca6d",
   "metadata": {
    "tags": []
   },
   "outputs": [
    {
     "data": {
      "text/plain": [
       "{'rouge1': 47.18161750679005,\n",
       " 'rouge2': 21.570602040030334,\n",
       " 'rougeL': 39.20242183972073,\n",
       " 'rougeLsum': 39.215194567027524}"
      ]
     },
     "execution_count": 50,
     "metadata": {},
     "output_type": "execute_result"
    }
   ],
   "source": [
    "results_best_weights "
   ]
  },
  {
   "cell_type": "code",
   "execution_count": 51,
   "id": "8b074e2b-6b7b-428c-9de7-ffb2e55aca46",
   "metadata": {
    "tags": []
   },
   "outputs": [],
   "source": [
    "tokenizer.save_pretrained(\"./bart-input-512-target-100-pytorch-baseline-50-epochs-best-valid-rouge-smoothing-2\")\n",
    "model.save_pretrained(\"./bart-input-512-target-100-pytorch-baseline-50-epochs-best-valid-rouge-smoothing-2\")"
   ]
  },
  {
   "cell_type": "code",
   "execution_count": 52,
   "id": "70510d26-6dfe-41d7-85f9-75223d53ed64",
   "metadata": {
    "tags": []
   },
   "outputs": [],
   "source": [
    "test2 = test_datasets['test_2']"
   ]
  },
  {
   "cell_type": "code",
   "execution_count": 53,
   "id": "c3c5fbd9-aff8-435a-9fd7-9eb0f4ac1af7",
   "metadata": {
    "tags": []
   },
   "outputs": [],
   "source": [
    "hypothesis = []\n",
    "reference = []\n",
    "for i in test2:\n",
    "    hyp = generate_summary(i['dialogue'])\n",
    "    reference.append(i['summary'])\n",
    "    hypothesis.append(hyp)"
   ]
  },
  {
   "cell_type": "code",
   "execution_count": 54,
   "id": "f6916447-dd00-413e-a3a3-2a68d8b7732b",
   "metadata": {
    "tags": []
   },
   "outputs": [],
   "source": [
    "metrics_2 = load_metric('rouge.py')"
   ]
  },
  {
   "cell_type": "code",
   "execution_count": 55,
   "id": "ba560f56-7d70-4ffa-831a-362188f01de4",
   "metadata": {
    "tags": []
   },
   "outputs": [],
   "source": [
    "metrics_2 .add_batch(predictions=hypothesis, references=reference)\n",
    "# Compute metrics\n",
    "results_2  = metrics_2.compute()\n",
    "# Extract the median ROUGE scores\n",
    "results_2 = {key: value.mid.fmeasure * 100 for key, value in results_2.items()}"
   ]
  },
  {
   "cell_type": "code",
   "execution_count": 56,
   "id": "59248813-2e08-4ad3-ab24-b51e68a697fc",
   "metadata": {
    "tags": []
   },
   "outputs": [
    {
     "data": {
      "text/plain": [
       "{'rouge1': 44.902137616379974,\n",
       " 'rouge2': 18.965509001000207,\n",
       " 'rougeL': 36.728755633792474,\n",
       " 'rougeLsum': 36.802382792349505}"
      ]
     },
     "execution_count": 56,
     "metadata": {},
     "output_type": "execute_result"
    }
   ],
   "source": [
    "results_2"
   ]
  },
  {
   "cell_type": "code",
   "execution_count": 57,
   "id": "f2c09f05-538a-4359-ab06-ee061eba44ff",
   "metadata": {
    "tags": []
   },
   "outputs": [],
   "source": [
    "test3 = test_datasets['test_3']"
   ]
  },
  {
   "cell_type": "code",
   "execution_count": 58,
   "id": "84c006d7-2ae2-4525-9568-d1f9461b71b3",
   "metadata": {
    "tags": []
   },
   "outputs": [],
   "source": [
    "hypothesis = []\n",
    "reference = []\n",
    "for i in test3:\n",
    "    hyp = generate_summary(i['dialogue'])\n",
    "    reference.append(i['summary'])\n",
    "    hypothesis.append(hyp)"
   ]
  },
  {
   "cell_type": "code",
   "execution_count": 59,
   "id": "de23b8e7-f775-4495-83ef-5424aaabf106",
   "metadata": {
    "tags": []
   },
   "outputs": [],
   "source": [
    "metrics_3 = load_metric('rouge.py')"
   ]
  },
  {
   "cell_type": "code",
   "execution_count": 60,
   "id": "a70a024b-a4f4-4db6-a2e4-4639c534cb95",
   "metadata": {
    "tags": []
   },
   "outputs": [],
   "source": [
    "metrics_3 .add_batch(predictions=hypothesis, references=reference)\n",
    "# Compute metrics\n",
    "results_3  = metrics_3.compute()\n",
    "# Extract the median ROUGE scores\n",
    "results_3 = {key: value.mid.fmeasure * 100 for key, value in results_3.items()}"
   ]
  },
  {
   "cell_type": "code",
   "execution_count": 61,
   "id": "9f952c2a-9e2c-423f-a940-29356a46e438",
   "metadata": {
    "tags": []
   },
   "outputs": [
    {
     "data": {
      "text/plain": [
       "{'rouge1': 46.92648773011413,\n",
       " 'rouge2': 20.66873167505552,\n",
       " 'rougeL': 38.06145825457355,\n",
       " 'rougeLsum': 38.065946881111735}"
      ]
     },
     "execution_count": 61,
     "metadata": {},
     "output_type": "execute_result"
    }
   ],
   "source": [
    "results_3"
   ]
  },
  {
   "cell_type": "code",
   "execution_count": 62,
   "id": "8b942cfc-890b-49e0-b5b4-191998c0dc2a",
   "metadata": {
    "tags": []
   },
   "outputs": [],
   "source": [
    "loss_tolist = [x.tolist() for x in loss_list]"
   ]
  },
  {
   "cell_type": "code",
   "execution_count": 63,
   "id": "525a6426-95ca-447c-bcbc-1854eea3c6be",
   "metadata": {},
   "outputs": [
    {
     "data": {
      "image/png": "[encoded data removed]",
      "text/plain": [
       "<Figure size 1000x500 with 1 Axes>"
      ]
     },
     "metadata": {},
     "output_type": "display_data"
    }
   ],
   "source": [
    "plt.figure(figsize=(10, 5))\n",
    "plt.plot(loss_tolist)\n",
    "plt.xlabel('Iterations')\n",
    "plt.ylabel('Loss')\n",
    "plt.title('Loss')\n",
    "plt.show()"
   ]
  },
  {
   "cell_type": "code",
   "execution_count": 64,
   "id": "9fd0cb35-839c-4ff7-a0da-afff0d310766",
   "metadata": {},
   "outputs": [
    {
     "data": {
      "image/png": "[encoded data removed]",
      "text/plain": [
       "<Figure size 1000x500 with 1 Axes>"
      ]
     },
     "metadata": {},
     "output_type": "display_data"
    }
   ],
   "source": [
    "# Plotting\n",
    "plt.figure(figsize=(10, 5))\n",
    "plt.plot(train_loss_list, label = 'train_loss')\n",
    "plt.plot(val_loss_list, label = 'val_loss')\n",
    "plt.xlabel('Iterations')\n",
    "plt.ylabel('Loss')\n",
    "plt.title('Loss')\n",
    "plt.legend()\n",
    "plt.show()"
   ]
  },
  {
   "cell_type": "code",
   "execution_count": 65,
   "id": "b8b8afa7-2127-4f2e-9953-371eeaa3607c",
   "metadata": {},
   "outputs": [
    {
     "data": {
      "image/png": "[encoded data removed]",
      "text/plain": [
       "<Figure size 1000x500 with 4 Axes>"
      ]
     },
     "metadata": {},
     "output_type": "display_data"
    }
   ],
   "source": [
    "# Plotting\n",
    "plt.figure(figsize=(10, 5))\n",
    "plt.subplot(2, 2, 1)\n",
    "plt.plot(rouge1_list)\n",
    "plt.xlabel('Iterations')\n",
    "plt.ylabel('rouge1')\n",
    "plt.title('rouge1')\n",
    "\n",
    "plt.subplot(2, 2, 2)\n",
    "plt.plot(rouge2_list)\n",
    "plt.xlabel('Iterations')\n",
    "plt.ylabel('rouge2')\n",
    "plt.title('rouge2')\n",
    "\n",
    "plt.subplot(2, 2, 3)\n",
    "plt.plot(rougeL_list)\n",
    "plt.xlabel('Iterations')\n",
    "plt.ylabel('rougeL')\n",
    "plt.title('rougeL')\n",
    "\n",
    "plt.subplot(2, 2, 4)\n",
    "plt.plot(rougeLsum_list)\n",
    "plt.xlabel('Iterations')\n",
    "plt.ylabel('rougeLsum')\n",
    "plt.title('rougeLsum')\n",
    "\n",
    "plt.tight_layout()\n",
    "plt.show()"
   ]
  },
  {
   "cell_type": "code",
   "execution_count": 66,
   "id": "8e36cb92-6400-4347-a040-84fb077fa9a8",
   "metadata": {
    "tags": []
   },
   "outputs": [
    {
     "data": {
      "image/png": "[encoded data removed]",
      "text/plain": [
       "<Figure size 1000x500 with 1 Axes>"
      ]
     },
     "metadata": {},
     "output_type": "display_data"
    }
   ],
   "source": [
    "plt.figure(figsize=(10, 5))\n",
    "# plt.plot(train_loss_list)\n",
    "plt.plot(val_loss_list)\n",
    "plt.xlabel('Iterations')\n",
    "plt.ylabel('Loss')\n",
    "plt.title('Loss')\n",
    "plt.show()"
   ]
  }
 ],
 "metadata": {
  "kernelspec": {
   "display_name": "Python 3 (ipykernel)",
   "language": "python",
   "name": "python3"
  },
  "language_info": {
   "codemirror_mode": {
    "name": "ipython",
    "version": 3
   },
   "file_extension": ".py",
   "mimetype": "text/x-python",
   "name": "python",
   "nbconvert_exporter": "python",
   "pygments_lexer": "ipython3",
   "version": "3.8.10"
  }
 },
 "nbformat": 4,
 "nbformat_minor": 5
}
